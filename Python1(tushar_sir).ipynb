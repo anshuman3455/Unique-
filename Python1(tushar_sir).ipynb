{
 "cells": [
  {
   "cell_type": "code",
   "execution_count": 1,
   "id": "5cf5e3ce",
   "metadata": {},
   "outputs": [
    {
     "data": {
      "text/plain": [
       "'er'"
      ]
     },
     "execution_count": 1,
     "metadata": {},
     "output_type": "execute_result"
    }
   ],
   "source": [
    "# String is a collection of sequential char element\n",
    "name = 'Anshuman Singh Rathore'\n",
    "name[-1:-3:-1]"
   ]
  },
  {
   "cell_type": "code",
   "execution_count": 3,
   "id": "e9b22fc6",
   "metadata": {},
   "outputs": [
    {
     "data": {
      "text/plain": [
       "'eot'"
      ]
     },
     "execution_count": 3,
     "metadata": {},
     "output_type": "execute_result"
    }
   ],
   "source": [
    "name[-1:-6:-2]"
   ]
  },
  {
   "cell_type": "code",
   "execution_count": 5,
   "id": "66526d78",
   "metadata": {},
   "outputs": [
    {
     "name": "stdout",
     "output_type": "stream",
     "text": [
      "Minimum value:  8\n"
     ]
    }
   ],
   "source": [
    "# take 4 varibale and find out the minium value among 4 ?\n",
    "x = 20 \n",
    "y = 28\n",
    "z = 8 \n",
    "q =12\n",
    "\n",
    "min_num = min(x,y,z,q)\n",
    "print('Minimum value: ', min_num)"
   ]
  },
  {
   "cell_type": "code",
   "execution_count": 6,
   "id": "6821e1c2",
   "metadata": {},
   "outputs": [
    {
     "data": {
      "text/plain": [
       "153"
      ]
     },
     "execution_count": 6,
     "metadata": {},
     "output_type": "execute_result"
    }
   ],
   "source": [
    "# Armstrong number\n",
    "1**3 + 5**3 + 3**3"
   ]
  },
  {
   "cell_type": "code",
   "execution_count": 7,
   "id": "e0f778f3",
   "metadata": {},
   "outputs": [],
   "source": [
    "# Armstrong number\n",
    "# 153\n",
    "# 1**3 + 5**3 + 3**3 => 1+125+27  =>153\n",
    "#  153 % 10==> 3\n",
    "# 153//10==> 15\n",
    "# 15 % 10==>5\n",
    "# 15//10 => 1\n",
    "# 1**3+5**3+3**3=>153"
   ]
  },
  {
   "cell_type": "code",
   "execution_count": 12,
   "id": "f1b7090e",
   "metadata": {},
   "outputs": [
    {
     "data": {
      "text/plain": [
       "15.4"
      ]
     },
     "execution_count": 12,
     "metadata": {},
     "output_type": "execute_result"
    }
   ],
   "source": [
    "154/10"
   ]
  },
  {
   "cell_type": "code",
   "execution_count": 13,
   "id": "9d327221",
   "metadata": {},
   "outputs": [
    {
     "data": {
      "text/plain": [
       "4"
      ]
     },
     "execution_count": 13,
     "metadata": {},
     "output_type": "execute_result"
    }
   ],
   "source": [
    "154%10"
   ]
  },
  {
   "cell_type": "code",
   "execution_count": 14,
   "id": "cdc442a4",
   "metadata": {},
   "outputs": [
    {
     "data": {
      "text/plain": [
       "15"
      ]
     },
     "execution_count": 14,
     "metadata": {},
     "output_type": "execute_result"
    }
   ],
   "source": [
    "154//10"
   ]
  },
  {
   "cell_type": "code",
   "execution_count": 15,
   "id": "8a4429cb",
   "metadata": {},
   "outputs": [],
   "source": [
    "# 2356\n",
    "\n",
    "# # 2**3 + 3**3 + 5**3 + 6**3 =>8+27+125+216=>376\n",
    "\n",
    "# 2356%10 ==>6\n",
    "# 2356//10==>235\n",
    "# 235%10==>5\n",
    "# 235//10=>23\n"
   ]
  },
  {
   "cell_type": "code",
   "execution_count": 31,
   "id": "5605d15f",
   "metadata": {},
   "outputs": [
    {
     "name": "stdout",
     "output_type": "stream",
     "text": [
      "3\n",
      "345\n",
      "230\n",
      "Volume of the cylinder:  9754.645189396308 Cubic centimeters\n",
      "Volume in liters 9.754645189396308 liters\n",
      "Cost for 5 liters:  117.89255043844098 rupees\n"
     ]
    }
   ],
   "source": [
    "# there is a cylinder whose radius is 3cm and height is 345cm\n",
    "\n",
    "# find the voluime of cylinder and\n",
    "# if the per volume total cost is 230 rupees calculate the price of 5litre\n",
    "\n",
    "\n",
    "# formula #.r^2.h\n",
    "import math \n",
    "# Given values\n",
    "radius =  int(input())\n",
    "height = int(input())\n",
    "cost_per_volume = int(input()) # in ruppees\n",
    "volume = math.pi * (radius **2 ) * height # in cubic centimeters\n",
    "volume_liters = volume /1000 # in liters\n",
    "\n",
    "cost_for_5_liters = (5 / volume_liters) * cost_per_volume\n",
    "\n",
    "print('Volume of the cylinder: ',volume , 'Cubic centimeters')\n",
    "print('Volume in liters', volume_liters,'liters')\n",
    "print('Cost for 5 liters: ',cost_for_5_liters, 'rupees')"
   ]
  },
  {
   "cell_type": "code",
   "execution_count": 17,
   "id": "51db1319",
   "metadata": {},
   "outputs": [
    {
     "data": {
      "text/plain": [
       "9754.645189396308"
      ]
     },
     "execution_count": 17,
     "metadata": {},
     "output_type": "execute_result"
    }
   ],
   "source": [
    "volume"
   ]
  },
  {
   "cell_type": "code",
   "execution_count": 34,
   "id": "fe03c90c",
   "metadata": {},
   "outputs": [
    {
     "name": "stdout",
     "output_type": "stream",
     "text": [
      "0\n"
     ]
    }
   ],
   "source": [
    "# Loop for and while\n",
    "\n",
    "for i in range(0,10):\n",
    "    print(i)\n",
    "    break"
   ]
  },
  {
   "cell_type": "code",
   "execution_count": 36,
   "id": "a1e8cc3f",
   "metadata": {},
   "outputs": [
    {
     "name": "stdout",
     "output_type": "stream",
     "text": [
      "0\n",
      "1\n",
      "2\n",
      "3\n",
      "4\n",
      "5\n",
      "6\n",
      "7\n",
      "8\n",
      "9\n",
      "10\n",
      "11\n",
      "12\n",
      "13\n",
      "14\n",
      "15\n",
      "16\n",
      "17\n",
      "18\n"
     ]
    }
   ],
   "source": [
    "for i in range(0,100):\n",
    "    print(i)\n",
    "    if i == 18:\n",
    "        break"
   ]
  },
  {
   "cell_type": "code",
   "execution_count": 37,
   "id": "e8bf0ef1",
   "metadata": {},
   "outputs": [
    {
     "name": "stdout",
     "output_type": "stream",
     "text": [
      "hello\n"
     ]
    }
   ],
   "source": [
    "while(True):\n",
    "    print('hello')\n",
    "    break"
   ]
  },
  {
   "cell_type": "code",
   "execution_count": 42,
   "id": "f6827d37",
   "metadata": {},
   "outputs": [
    {
     "name": "stdout",
     "output_type": "stream",
     "text": [
      "5 25\n",
      "10 100\n",
      "15 225\n",
      "20 400\n",
      "25 625\n",
      "30 900\n",
      "35 1225\n",
      "40 1600\n",
      "45 2025\n",
      "50 2500\n",
      "55 3025\n",
      "60 3600\n",
      "65 4225\n",
      "70 4900\n",
      "75 5625\n",
      "80 6400\n",
      "85 7225\n",
      "90 8100\n",
      "95 9025\n",
      "100 10000\n"
     ]
    }
   ],
   "source": [
    "# to calculate the total of \n",
    "# square of all the number divisible by 5 in the range form \n",
    "# 1 to 100\n",
    "\n",
    "for num in range(1,101):\n",
    "    if num % 5 ==0:\n",
    "        print(num ,num *num)"
   ]
  },
  {
   "cell_type": "code",
   "execution_count": 44,
   "id": "21492a8c",
   "metadata": {},
   "outputs": [
    {
     "name": "stdout",
     "output_type": "stream",
     "text": [
      "1\n",
      "11\n",
      "12\n",
      "13\n",
      "14\n",
      "2\n",
      "11\n",
      "12\n",
      "13\n",
      "14\n",
      "3\n",
      "11\n",
      "12\n",
      "13\n",
      "14\n",
      "4\n",
      "11\n",
      "12\n",
      "13\n",
      "14\n"
     ]
    }
   ],
   "source": [
    "for i in range(1,5):\n",
    "    print(i)\n",
    "    for j in range(11,15):\n",
    "        print(j)"
   ]
  },
  {
   "cell_type": "code",
   "execution_count": 51,
   "id": "b36c0c16",
   "metadata": {},
   "outputs": [
    {
     "name": "stdout",
     "output_type": "stream",
     "text": [
      "*\n",
      "**\n",
      "***\n",
      "****\n"
     ]
    }
   ],
   "source": [
    "for outer in range(1,5):\n",
    "    for inner in range(1,outer+1):\n",
    "        print('*',end=\"\")\n",
    "    print('')"
   ]
  },
  {
   "cell_type": "code",
   "execution_count": 3,
   "id": "a00ea434",
   "metadata": {},
   "outputs": [
    {
     "name": "stdout",
     "output_type": "stream",
     "text": [
      "****\n",
      "***\n",
      "**\n",
      "*\n"
     ]
    }
   ],
   "source": [
    "for outer in range(1,5):\n",
    "    for inner in range(0,5-outer):\n",
    "        print('*',end = '')\n",
    "    print('')\n",
    "        "
   ]
  },
  {
   "cell_type": "code",
   "execution_count": 9,
   "id": "299aabed",
   "metadata": {},
   "outputs": [
    {
     "name": "stdout",
     "output_type": "stream",
     "text": [
      "*\n",
      "**\n",
      "***\n",
      "****\n",
      "***\n",
      "**\n",
      "*\n"
     ]
    }
   ],
   "source": [
    "for outer in range(1,5):\n",
    "    for inner in range(1,outer+1):\n",
    "        print('*',end=\"\")\n",
    "    print('')\n",
    "for outer in range(2,5):\n",
    "    for inner in range(0,5-outer):\n",
    "        print('*',end = '')\n",
    "    print('')\n",
    "        "
   ]
  },
  {
   "cell_type": "code",
   "execution_count": 13,
   "id": "778f0845",
   "metadata": {},
   "outputs": [
    {
     "name": "stdout",
     "output_type": "stream",
     "text": [
      "***\n",
      "**\n",
      "*\n",
      "\n"
     ]
    }
   ],
   "source": [
    "for i in range(1,5):\n",
    "    for k in range(3,i-1,-1):\n",
    "        print('*',end='')\n",
    "    for j in range()\n",
    "    print('')"
   ]
  },
  {
   "cell_type": "code",
   "execution_count": 1,
   "id": "39b86feb",
   "metadata": {},
   "outputs": [
    {
     "name": "stdout",
     "output_type": "stream",
     "text": [
      "+\n",
      "++\n",
      "+++\n",
      "++++\n"
     ]
    }
   ],
   "source": [
    "for i in range(1,5):\n",
    "    for j in range(1,i+1):\n",
    "        print('+',end='')\n",
    "    print('')"
   ]
  },
  {
   "cell_type": "code",
   "execution_count": 3,
   "id": "28b275f4",
   "metadata": {},
   "outputs": [
    {
     "name": "stdout",
     "output_type": "stream",
     "text": [
      "****\n",
      "***\n",
      "**\n",
      "*\n"
     ]
    }
   ],
   "source": [
    "for i in range(1,5):\n",
    "    for j in range (5,i,-1):\n",
    "        print('*',end='')\n",
    "    print('')"
   ]
  },
  {
   "cell_type": "code",
   "execution_count": 8,
   "id": "85d405c2",
   "metadata": {},
   "outputs": [
    {
     "name": "stdout",
     "output_type": "stream",
     "text": [
      "*\n",
      "**\n",
      "***\n",
      "****\n",
      "***\n",
      "**\n",
      "*\n",
      "\n"
     ]
    }
   ],
   "source": [
    "for i in range(1,5):\n",
    "    for j in range(1,i+1):\n",
    "        print('*',end='')\n",
    "    print('')\n",
    "for i in range(1,5):\n",
    "    for j in range(5,i+1,-1):\n",
    "        print('*',end = '')\n",
    "    print('')"
   ]
  },
  {
   "cell_type": "code",
   "execution_count": 55,
   "id": "11a42c3f",
   "metadata": {},
   "outputs": [
    {
     "name": "stdout",
     "output_type": "stream",
     "text": [
      "+++*\n",
      "++**\n",
      "+***\n",
      "****\n"
     ]
    }
   ],
   "source": [
    "for i in range(1,5):\n",
    "    for j in range(3,i-1,-1):\n",
    "        print('+',end='')\n",
    "        \n",
    "    for k in range(1,i+1):\n",
    "        print('*',end='')\n",
    "    print('')\n",
    "       "
   ]
  },
  {
   "cell_type": "code",
   "execution_count": 56,
   "id": "7e9c9e27",
   "metadata": {},
   "outputs": [
    {
     "name": "stdout",
     "output_type": "stream",
     "text": [
      "Enter the number of rows: 5\n",
      "   *\n",
      "  **\n",
      " ***\n",
      "****\n"
     ]
    }
   ],
   "source": [
    "n = int(input('Enter the number of rows: '))\n",
    "for i in range(1,n):\n",
    "    for j in range(n-2,i-1,-1):\n",
    "        print(' ',end='')\n",
    "        \n",
    "    for k in range(1,i+1):\n",
    "        print('*',end='')\n",
    "    print('')\n",
    "       "
   ]
  },
  {
   "cell_type": "code",
   "execution_count": 54,
   "id": "6bc494a3",
   "metadata": {},
   "outputs": [
    {
     "name": "stdout",
     "output_type": "stream",
     "text": [
      "*\n",
      "+**\n",
      "++***\n",
      "+++****\n"
     ]
    }
   ],
   "source": [
    "for i in range(1,5):\n",
    "    for j in range(2,i+1):\n",
    "        print('+',end='')\n",
    "    for j in range(1,i+1):\n",
    "        print('*',end='')\n",
    "    print('')"
   ]
  },
  {
   "cell_type": "code",
   "execution_count": 62,
   "id": "8f4402c4",
   "metadata": {},
   "outputs": [
    {
     "name": "stdout",
     "output_type": "stream",
     "text": [
      "++++\n",
      "+++*\n",
      "++**\n",
      "+***\n"
     ]
    }
   ],
   "source": [
    "for i in range(1,5):\n",
    "    for j in range(5,i,-1):\n",
    "        print('+',end= '')\n",
    "    for k in range(2,i+1):\n",
    "        print('*',end='')\n",
    "    \n",
    "    print('')"
   ]
  },
  {
   "cell_type": "code",
   "execution_count": 65,
   "id": "3ed00e6c",
   "metadata": {},
   "outputs": [
    {
     "name": "stdout",
     "output_type": "stream",
     "text": [
      "****\n",
      " ***\n",
      "  **\n",
      "   *\n"
     ]
    }
   ],
   "source": [
    "for i in range(1,5):\n",
    "    for k in range(2,i+1):\n",
    "        print(' ',end='')\n",
    "    for j in range(5,i,-1):\n",
    "        print('*',end= '')\n",
    "    \n",
    "    \n",
    "    print('')"
   ]
  },
  {
   "cell_type": "code",
   "execution_count": 1,
   "id": "498d1130",
   "metadata": {},
   "outputs": [],
   "source": [
    "a = {1,2,33,33,4}"
   ]
  },
  {
   "cell_type": "code",
   "execution_count": 2,
   "id": "4410abcc",
   "metadata": {},
   "outputs": [
    {
     "data": {
      "text/plain": [
       "{1, 2, 4, 33}"
      ]
     },
     "execution_count": 2,
     "metadata": {},
     "output_type": "execute_result"
    }
   ],
   "source": [
    "a"
   ]
  },
  {
   "cell_type": "code",
   "execution_count": null,
   "id": "17fd20c3",
   "metadata": {},
   "outputs": [],
   "source": []
  }
 ],
 "metadata": {
  "kernelspec": {
   "display_name": "Python 3 (ipykernel)",
   "language": "python",
   "name": "python3"
  },
  "language_info": {
   "codemirror_mode": {
    "name": "ipython",
    "version": 3
   },
   "file_extension": ".py",
   "mimetype": "text/x-python",
   "name": "python",
   "nbconvert_exporter": "python",
   "pygments_lexer": "ipython3",
   "version": "3.10.9"
  }
 },
 "nbformat": 4,
 "nbformat_minor": 5
}
